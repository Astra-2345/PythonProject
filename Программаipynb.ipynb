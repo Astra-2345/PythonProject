{
  "nbformat": 4,
  "nbformat_minor": 0,
  "metadata": {
    "colab": {
      "private_outputs": true,
      "provenance": [],
      "authorship_tag": "ABX9TyOn8OasZc3wTVVxvDsnFEoR",
      "include_colab_link": true
    },
    "kernelspec": {
      "name": "python3",
      "display_name": "Python 3"
    },
    "language_info": {
      "name": "python"
    }
  },
  "cells": [
    {
      "cell_type": "markdown",
      "metadata": {
        "id": "view-in-github",
        "colab_type": "text"
      },
      "source": [
        "<a href=\"https://colab.research.google.com/github/Astra-2345/PythonProject/blob/main/%D0%9F%D1%80%D0%BE%D0%B3%D1%80%D0%B0%D0%BC%D0%BC%D0%B0ipynb.ipynb\" target=\"_parent\"><img src=\"https://colab.research.google.com/assets/colab-badge.svg\" alt=\"Open In Colab\"/></a>"
      ]
    },
    {
      "cell_type": "code",
      "execution_count": null,
      "metadata": {
        "id": "bH9791I0CQMo"
      },
      "outputs": [],
      "source": [
        "!pip install dadata\n",
        "!pip install httpx\n"
      ]
    },
    {
      "cell_type": "code",
      "source": [
        "#!/usr/bin/python\n",
        "# -*- coding: utf-8 -*-\n",
        "import sqlite3 as lite\n",
        "import sys\n",
        "con = lite.connect('new.db',timeout=10)\n",
        " \n",
        "with con:\n",
        "    cur = con.cursor()   \n",
        "    cur.execute(\"CREATE TABLE Setings(Id INT, url TEXT, key TEXT,lang TEXT)\") \n",
        "    # Создаем таблицу\n",
        "    # Вносим данные\n",
        "\n",
        "    \n"
      ],
      "metadata": {
        "id": "yAomx9vPEMRw"
      },
      "execution_count": null,
      "outputs": []
    },
    {
      "cell_type": "code",
      "source": [
        "con = lite.connect('new.db')\n",
        " \n",
        "with con:    \n",
        "    cur = con.cursor()    \n",
        "    cur.execute(\"SELECT * FROM setings\")\n",
        "    rows = cur.fetchall()\n",
        "for row in rows:\n",
        " print (rows)\n"
      ],
      "metadata": {
        "id": "2QIqZPp4Ws4M"
      },
      "execution_count": null,
      "outputs": []
    },
    {
      "cell_type": "code",
      "source": [
        "import json\n",
        "import requests\n",
        "from dadata import Dadata\n",
        "BASE_URL = 'https://suggestions.dadata.ru/suggestions/api/4_1/rs/suggest/'\n",
        "location = input('Введите место:') # вызываем интерактивную строку для ввода пользователем значения переменной \n",
        "print('Вы ввели', location) # вывод результатов\n",
        "# вывод результатов\n",
        "dadata.suggest(name=\"address\", query=location, language=\"ru\")\n",
        "dadata.clean(name=\"address\", source=location)\n",
        "\n",
        "\n",
        "\n"
      ],
      "metadata": {
        "id": "V2a-y1EpcX-U"
      },
      "execution_count": null,
      "outputs": []
    }
  ]
}